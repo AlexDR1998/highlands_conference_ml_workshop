{
 "cells": [
  {
   "cell_type": "markdown",
   "metadata": {},
   "source": [
    "# Simple neural network from scratch\n",
    "\n",
    "in this notebook we will:\n",
    "- define a simple neural network in the JAX library\n",
    "- define a loss function to measure its performance\n",
    "- perform a simple stochastic gradient descent to optimise the network parameters by minimising the loss function"
   ]
  },
  {
   "cell_type": "code",
   "execution_count": 90,
   "metadata": {},
   "outputs": [],
   "source": [
    "import jax # The main library we'll be using here\n",
    "import jax.numpy as np # The entire numpy library, but differentiable\n",
    "import jax.random as jr\n",
    "import einops # Fancy reshaping of arrays\n",
    "from tqdm.notebook import tqdm # Loading bars for our loops\n",
    "import matplotlib.pyplot as plt # Visualisation\n"
   ]
  },
  {
   "cell_type": "markdown",
   "metadata": {},
   "source": [
    "### We load the mnist handwritten digit dataset:\n",
    "- x_train: (60000,28,28) array of images (28*28 resolution)\n",
    "- x_test: (10000,28,28) array of images (28*28 resolution)\n",
    "\n",
    "- y_train: (60000) array of labels (integers 0-9)\n",
    "- y_test: (10000) array of labels (integers 0-9)\n",
    "\n",
    "- y_train_1hot: (60000,10) array of one hot encoded labels\n",
    "- y_test_1hot: (10000,10) array of one hot encoded labels\n",
    "\n",
    "We should always visualise what our data actually looks like\n"
   ]
  },
  {
   "cell_type": "code",
   "execution_count": 91,
   "metadata": {},
   "outputs": [],
   "source": [
    "# We only use tensorflow for loading the mnist dataset \n",
    "from tensorflow.keras.datasets import mnist\n",
    "(x_train, y_train), (x_test, y_test) = mnist.load_data()\n",
    "\n",
    "x_train_flat = einops.rearrange(x_train,\"batches w h -> batches (w h)\") / 255.0\n",
    "x_test_flat = einops.rearrange(x_test,\"batches w h -> batches (w h)\") / 255.0\n",
    "y_train_1hot = jax.nn.one_hot(y_train,num_classes=10,axis=-1)\n",
    "y_test_1hot = jax.nn.one_hot(y_test,num_classes=10,axis=-1)\n"
   ]
  },
  {
   "cell_type": "code",
   "execution_count": 94,
   "metadata": {},
   "outputs": [
    {
     "data": {
      "image/png": "[encoded data removed]",
      "text/plain": [
       "<Figure size 640x480 with 1 Axes>"
      ]
     },
     "metadata": {},
     "output_type": "display_data"
    }
   ],
   "source": [
    "plt.imshow(x_train[0])\n",
    "plt.show()"
   ]
  },
  {
   "cell_type": "markdown",
   "metadata": {},
   "source": [
    "## Introduction to Jax \n",
    "- JAX is a python library that essentially reproduces numpy, but with 3 very useful additions:\n",
    "    - everything is automatically differentiable\n",
    "    - code automatically parallelises to GPUs (when applicable)\n",
    "    - code can be Just In Time (JIT) compiled to run much faster than python typically does\n",
    "- the `jax.numpy` module has the same API as numpy, so if you replace `import numpy as np` with `import jax.numpy as np` your code will probably work\n",
    "- All random methods in JAX require a PRNGKey object passed into them\n",
    "- This is to avoid side effects, keeping functions that rely on random numbers pure"
   ]
  },
  {
   "cell_type": "code",
   "execution_count": 95,
   "metadata": {},
   "outputs": [],
   "source": [
    "SEED = 1234\n",
    "key = jr.PRNGKey(SEED)"
   ]
  },
  {
   "cell_type": "code",
   "execution_count": 117,
   "metadata": {},
   "outputs": [
    {
     "name": "stdout",
     "output_type": "stream",
     "text": [
      "6.0\n"
     ]
    }
   ],
   "source": [
    "def _f(x,y):\n",
    "    return (x-y)**2\n",
    "df = jax.grad(_f)\n",
    "print(df(5.0,2.0))"
   ]
  },
  {
   "cell_type": "markdown",
   "metadata": {},
   "source": [
    "### Linear fully connected layers:\n",
    "- The linear layers of a fully connected feed-forward neural network (or multi-layer-perceptron) are just matrix multiplications followed by adding a bias vector"
   ]
  },
  {
   "cell_type": "code",
   "execution_count": 96,
   "metadata": {},
   "outputs": [],
   "source": [
    "def linear_layer(x,weights,bias):\n",
    "    return np.matmul(weights,x) + bias\n"
   ]
  },
  {
   "cell_type": "markdown",
   "metadata": {},
   "source": [
    "### Lets define some nonlinear activation functions:\n",
    "- relu (REctified Linear Unit) just sets negative values to 0. It's fast to compute and works fairly well\n",
    "- softmax normalises the output to be a probability distribution"
   ]
  },
  {
   "cell_type": "code",
   "execution_count": 6,
   "metadata": {},
   "outputs": [],
   "source": [
    "def relu_activation(x):\n",
    "    return np.maximum(x,0)\n",
    "\n",
    "def softmax_activation(x):\n",
    "    Z = np.sum(np.exp(x))\n",
    "    return np.exp(x)/Z"
   ]
  },
  {
   "cell_type": "markdown",
   "metadata": {},
   "source": [
    "### Now define a neural network as a python class:\n",
    " - `__init__` method defines the sizes of input, hidden and output layers\n",
    " - `__call__` allows for objects of this class to be called like functions\n",
    " - multiplying the normally distributed parameters by `0.01` in `__init__` is important\n",
    "    - if initial random parameters are too large, training tends to diverge to NaN"
   ]
  },
  {
   "cell_type": "code",
   "execution_count": 97,
   "metadata": {},
   "outputs": [],
   "source": [
    "class SimpleNetwork(object):\n",
    "    def __init__(self,input_size,hidden_size,output_size,key):\n",
    "        key1,key2,key3,key4 = jr.split(key,4) # PRNGKey used to initialise model parameters\n",
    "        self.weights = [jr.normal(key1,shape=(hidden_size,input_size))*0.01,\n",
    "                        jr.normal(key2,shape=(output_size,hidden_size))*0.01]\n",
    "        self.bias = [jr.normal(key3,shape=(hidden_size,))*0.01,\n",
    "                     jr.normal(key4,shape=(output_size,))*0.01]\n",
    "        \n",
    "        \n",
    "    def __call__(self,x):\n",
    "        \n",
    "        h1 = linear_layer(x,self.weights[0],self.bias[0])\n",
    "        h2 = relu_activation(h1)\n",
    "        h3 = linear_layer(h2,self.weights[1],self.bias[1])\n",
    "        h4 = softmax_activation(h3)\n",
    "        return h4"
   ]
  },
  {
   "cell_type": "code",
   "execution_count": 103,
   "metadata": {},
   "outputs": [
    {
     "name": "stdout",
     "output_type": "stream",
     "text": [
      "[0.10191788 0.10068461 0.10017712 0.09966286 0.09672046 0.10055019\n",
      " 0.10191927 0.09926675 0.1001219  0.09897896]\n"
     ]
    }
   ],
   "source": [
    "nn = SimpleNetwork(784,100,10,key)\n",
    "print(nn(x_train_flat[4]))\n"
   ]
  },
  {
   "cell_type": "markdown",
   "metadata": {},
   "source": [
    "### Now define a loss function - this is the bit with the gradient:\n",
    "- `loss` takes as input model_parameters, model, x and y, where:\n",
    "    - model_parameters: is a list of arrays representing the weights and biasses\n",
    "    - model: callable (model_parameters,x)->y is the neural network function itself\n",
    "    - x: array [BATCHES,784] is the input data\n",
    "    - y: array [BATCHES,10] is the correct outputs to compare to\n",
    "- loss returns a scalar, think of this as a measure of how wrong the model is\n",
    "- the `@jax.value_and_grad` wrapper means that loss returns both it's normal output, and the gradient of this output __with respect to it's first input__ (model_parameters)\n",
    "\n",
    "- the `jax.vmap` vectorises the model function - so it works on [BATCHES,748] inputs rather than just [748] inputs"
   ]
  },
  {
   "cell_type": "code",
   "execution_count": 106,
   "metadata": {},
   "outputs": [],
   "source": [
    "@jax.value_and_grad\n",
    "def loss(model_params,model,x,y):\n",
    "    \"\"\"Loss function\n",
    "\n",
    "    Args:\n",
    "        model_parameters (list of arrays): parameters of the network model\n",
    "        model (callable (model_parameters,x)->y ): neural network model being trained\n",
    "        x (array [BATCHES,1,28,28]): image of number\n",
    "        y (array [BATCHES,10]): one hot encoding of number label\n",
    "\n",
    "    Returns:\n",
    "        float: loss - zero when y_pred=y, higher otherwise\n",
    "    \"\"\"\n",
    "    model.weights = [model_params[0],model_params[1]]\n",
    "    model.bias = [model_params[2],model_params[3]]\n",
    "    \n",
    "    y_predicted = jax.vmap(model,in_axes=0,out_axes=0,axis_name=\"BATCHES\")(x)\n",
    "\n",
    "    #print(y_predicted)\n",
    "    #return np.mean((y_predicted-y)**2)\n",
    "    return -np.mean(y*np.log(y_predicted))"
   ]
  },
  {
   "cell_type": "markdown",
   "metadata": {},
   "source": [
    "### Now we define an optimiser:\n",
    "- This is just a function that updates the model parameters based on the loss gradients\n",
    "- To minimise the loss we use a 1st order gradient descent:\n",
    "    -  $\\theta_{i+1} = \\theta_i - h\\nabla_\\theta L(\\theta,x,y)$\n",
    "    - where $h$ is the `learn_rate`"
   ]
  },
  {
   "cell_type": "code",
   "execution_count": 79,
   "metadata": {},
   "outputs": [],
   "source": [
    "def optimiser(model_parameters,gradient,learn_rate):\n",
    "    # Simple gradient descent step\n",
    "    for i,dm in enumerate(gradient):\n",
    "        model_parameters[i] -= learn_rate*dm\n",
    "    return model_parameters"
   ]
  },
  {
   "cell_type": "markdown",
   "metadata": {},
   "source": [
    "### Now we stick everything together:\n",
    "- iteratively:\n",
    "    - calculate loss gradients of the model\n",
    "    - update the model parameters based on these gradients"
   ]
  },
  {
   "cell_type": "code",
   "execution_count": 109,
   "metadata": {},
   "outputs": [
    {
     "data": {
      "application/vnd.jupyter.widget-view+json": {
       "model_id": "431650754ae044d4bc6bc00e7ea7ab29",
       "version_major": 2,
       "version_minor": 0
      },
      "text/plain": [
       "  0%|          | 0/1000 [00:00<?, ?it/s]"
      ]
     },
     "metadata": {},
     "output_type": "display_data"
    },
    {
     "name": "stdout",
     "output_type": "stream",
     "text": [
      "Loss at step 0: 0.23024169\n",
      "Loss at step 10: 0.23002706\n",
      "Loss at step 20: 0.23018269\n",
      "Loss at step 30: 0.22991692\n",
      "Loss at step 40: 0.22967152\n",
      "Loss at step 50: 0.22959352\n",
      "Loss at step 60: 0.22937684\n",
      "Loss at step 70: 0.2297097\n",
      "Loss at step 80: 0.22920239\n",
      "Loss at step 90: 0.22949259\n",
      "Loss at step 100: 0.22919722\n",
      "Loss at step 110: 0.22926047\n",
      "Loss at step 120: 0.22908269\n",
      "Loss at step 130: 0.22856322\n",
      "Loss at step 140: 0.22891536\n",
      "Loss at step 150: 0.22821684\n",
      "Loss at step 160: 0.22843042\n",
      "Loss at step 170: 0.22782283\n",
      "Loss at step 180: 0.22803254\n",
      "Loss at step 190: 0.22753358\n",
      "Loss at step 200: 0.22786732\n",
      "Loss at step 210: 0.22724234\n",
      "Loss at step 220: 0.22662273\n",
      "Loss at step 230: 0.22684613\n",
      "Loss at step 240: 0.22560708\n",
      "Loss at step 250: 0.22458501\n",
      "Loss at step 260: 0.22479062\n",
      "Loss at step 270: 0.22456923\n",
      "Loss at step 280: 0.22430158\n",
      "Loss at step 290: 0.22370043\n",
      "Loss at step 300: 0.22313046\n",
      "Loss at step 310: 0.22226404\n",
      "Loss at step 320: 0.22144471\n",
      "Loss at step 330: 0.22141834\n",
      "Loss at step 340: 0.22128971\n",
      "Loss at step 350: 0.22118233\n",
      "Loss at step 360: 0.21689785\n",
      "Loss at step 370: 0.21819086\n",
      "Loss at step 380: 0.21594062\n",
      "Loss at step 390: 0.21674338\n",
      "Loss at step 400: 0.2166647\n",
      "Loss at step 410: 0.21285562\n",
      "Loss at step 420: 0.21395135\n",
      "Loss at step 430: 0.20764716\n",
      "Loss at step 440: 0.2093405\n",
      "Loss at step 450: 0.20975743\n",
      "Loss at step 460: 0.20876952\n",
      "Loss at step 470: 0.20706888\n",
      "Loss at step 480: 0.2090662\n",
      "Loss at step 490: 0.20840101\n",
      "Loss at step 500: 0.19986777\n",
      "Loss at step 510: 0.19711728\n",
      "Loss at step 520: 0.19569619\n",
      "Loss at step 530: 0.19944988\n",
      "Loss at step 540: 0.19212721\n",
      "Loss at step 550: 0.19086759\n",
      "Loss at step 560: 0.1868743\n",
      "Loss at step 570: 0.18468049\n",
      "Loss at step 580: 0.17793714\n",
      "Loss at step 590: 0.177349\n",
      "Loss at step 600: 0.17627317\n",
      "Loss at step 610: 0.17817256\n",
      "Loss at step 620: 0.17290473\n",
      "Loss at step 630: 0.1747732\n",
      "Loss at step 640: 0.16289476\n",
      "Loss at step 650: 0.16644394\n",
      "Loss at step 660: 0.17253248\n",
      "Loss at step 670: 0.17017777\n",
      "Loss at step 680: 0.15626049\n",
      "Loss at step 690: 0.14731203\n",
      "Loss at step 700: 0.1398288\n",
      "Loss at step 710: 0.13842395\n",
      "Loss at step 720: 0.14750317\n",
      "Loss at step 730: 0.13985561\n",
      "Loss at step 740: 0.1345977\n",
      "Loss at step 750: 0.1461396\n",
      "Loss at step 760: 0.1362534\n",
      "Loss at step 770: 0.12802874\n",
      "Loss at step 780: 0.12716784\n",
      "Loss at step 790: 0.12207878\n",
      "Loss at step 800: 0.12681298\n",
      "Loss at step 810: 0.13791445\n",
      "Loss at step 820: 0.12577648\n",
      "Loss at step 830: 0.11432534\n",
      "Loss at step 840: 0.12211452\n",
      "Loss at step 850: 0.12087684\n",
      "Loss at step 860: 0.105625175\n",
      "Loss at step 870: 0.12092855\n",
      "Loss at step 880: 0.107195616\n",
      "Loss at step 890: 0.11434557\n",
      "Loss at step 900: 0.10752094\n",
      "Loss at step 910: 0.11610971\n",
      "Loss at step 920: 0.09748095\n",
      "Loss at step 930: 0.10830648\n",
      "Loss at step 940: 0.10045531\n",
      "Loss at step 950: 0.112639025\n",
      "Loss at step 960: 0.09647777\n",
      "Loss at step 970: 0.09151546\n",
      "Loss at step 980: 0.10339936\n",
      "Loss at step 990: 0.1073602\n"
     ]
    }
   ],
   "source": [
    "# Set network and training log\n",
    "key = jr.fold_in(key,1)\n",
    "nn = SimpleNetwork(28*28,100,10,key)\n",
    "nn_params = [nn.weights[0],nn.weights[1],nn.bias[0],nn.bias[1]]\n",
    "TRAIN_ITERS = 1000\n",
    "BATCH_SIZE = 64\n",
    "loss_log = []\n",
    "\n",
    "\n",
    "for i in tqdm(range(TRAIN_ITERS)):\n",
    "    \n",
    "    # Randomly choose 32 pairs of X and Y\n",
    "    train_key = jr.fold_in(key,i)\n",
    "    inds = jr.choice(train_key,np.arange(60000),(BATCH_SIZE,),replace=False)\n",
    "    x = x_train_flat[inds]\n",
    "    y = y_train_1hot[inds]\n",
    "    \n",
    "    loss_value,grad = loss(nn_params,nn,x,y) # Compute loss\n",
    "    nn_params = optimiser(nn_params,grad,learn_rate=1e-1) # Apply gradient updates to model parameters\n",
    "    \n",
    "    \n",
    "    loss_log.append(loss_value) # Record current loss\n",
    "    if i%10==0:\n",
    "        tqdm.write(\"Loss at step \"+str(i)+\": \"+str(loss_value)) # Print loss to screen during training\n",
    "    "
   ]
  },
  {
   "cell_type": "markdown",
   "metadata": {},
   "source": [
    "### Lets check how the model trained"
   ]
  },
  {
   "cell_type": "code",
   "execution_count": 110,
   "metadata": {},
   "outputs": [
    {
     "data": {
      "text/plain": [
       "[<matplotlib.lines.Line2D at 0x7f626696a910>]"
      ]
     },
     "execution_count": 110,
     "metadata": {},
     "output_type": "execute_result"
    },
    {
     "data": {
      "image/png": "[encoded data removed]",
      "text/plain": [
       "<Figure size 640x480 with 1 Axes>"
      ]
     },
     "metadata": {},
     "output_type": "display_data"
    }
   ],
   "source": [
    "plt.plot(loss_log)"
   ]
  },
  {
   "cell_type": "markdown",
   "metadata": {},
   "source": [
    "### Let's evaluate our trained model on the test dataset\n",
    "- A confusion matrix is a useful way to visualise this\n",
    "    - each entry $C_{ij}$ counts how many times an image of class $i$ was labelled as class $j$\n",
    "    - If our model is perfect, this matrix should be diagonal\n",
    "    - It can be helpful to understand if there are two classes of images that are often confused"
   ]
  },
  {
   "cell_type": "code",
   "execution_count": null,
   "metadata": {},
   "outputs": [],
   "source": [
    "y_test_predictions = np.argmax(jax.vmap(nn)(x_test_flat),axis=1) # By taking the maximum of the output probability distribution, we are forcing the model to discretely choose a number\n",
    "confusion_matrix = np.zeros((10,10))\n",
    "for i in range(len(y_test)):\n",
    "    confusion_matrix = confusion_matrix.at[y_test[i],y_test_predictions[i]].set(confusion_matrix[y_test[i],y_test_predictions[i]]+1)\n",
    "\n",
    "\n"
   ]
  },
  {
   "cell_type": "code",
   "execution_count": null,
   "metadata": {},
   "outputs": [],
   "source": [
    "plt.imshow(confusion_matrix)"
   ]
  },
  {
   "cell_type": "markdown",
   "metadata": {},
   "source": [
    "### What next?\n",
    "- This model is pretty bad\n",
    "- having to explictely pass around model parameters and model is annoying\n",
    "- having to define our own optimiser is annoying\n",
    "- How do we choose good hyper-paramters:\n",
    "    - number of layers\n",
    "    - sizes of layers\n",
    "    - types of activation function\n",
    "- Training sometimes hits NaN - dependant on random initialisation"
   ]
  }
 ],
 "metadata": {
  "kernelspec": {
   "display_name": "Python 3",
   "language": "python",
   "name": "python3"
  },
  "language_info": {
   "codemirror_mode": {
    "name": "ipython",
    "version": 3
   },
   "file_extension": ".py",
   "mimetype": "text/x-python",
   "name": "python",
   "nbconvert_exporter": "python",
   "pygments_lexer": "ipython3",
   "version": "3.11.0"
  }
 },
 "nbformat": 4,
 "nbformat_minor": 2
}
