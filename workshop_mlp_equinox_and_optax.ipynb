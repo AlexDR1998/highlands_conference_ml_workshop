{
 "cells": [
  {
   "cell_type": "markdown",
   "metadata": {},
   "source": [
    "# Simple neural network with Equinox and Optax"
   ]
  },
  {
   "cell_type": "code",
   "execution_count": 1,
   "metadata": {},
   "outputs": [],
   "source": [
    "import jax\n",
    "import jax.numpy as np\n",
    "import jax.random as jr\n",
    "import optax\n",
    "import einops\n",
    "import equinox as eqx \n",
    "\n",
    "from tqdm.notebook import tqdm\n",
    "import matplotlib.pyplot as plt"
   ]
  },
  {
   "cell_type": "markdown",
   "metadata": {},
   "source": [
    "### We load the mnist handwritten digit dataset:\n",
    "- x_train: (60000,28,28) array of images (28*28 resolution)\n",
    "- x_test: (10000,28,28) array of images (28*28 resolution)\n",
    "\n",
    "- y_train: (60000) array of labels (integers 0-9)\n",
    "- y_test: (10000) array of labels (integers 0-9)\n",
    "\n",
    "- y_train_1hot: (60000,10) array of one hot encoded labels\n",
    "- y_test_1hot: (10000,10) array of one hot encoded labels\n"
   ]
  },
  {
   "cell_type": "code",
   "execution_count": 2,
   "metadata": {},
   "outputs": [
    {
     "name": "stderr",
     "output_type": "stream",
     "text": [
      "2024-02-19 09:47:17.511621: E external/local_xla/xla/stream_executor/cuda/cuda_dnn.cc:9261] Unable to register cuDNN factory: Attempting to register factory for plugin cuDNN when one has already been registered\n",
      "2024-02-19 09:47:17.511648: E external/local_xla/xla/stream_executor/cuda/cuda_fft.cc:607] Unable to register cuFFT factory: Attempting to register factory for plugin cuFFT when one has already been registered\n",
      "2024-02-19 09:47:17.512437: E external/local_xla/xla/stream_executor/cuda/cuda_blas.cc:1515] Unable to register cuBLAS factory: Attempting to register factory for plugin cuBLAS when one has already been registered\n",
      "2024-02-19 09:47:18.369523: W tensorflow/compiler/tf2tensorrt/utils/py_utils.cc:38] TF-TRT Warning: Could not find TensorRT\n"
     ]
    }
   ],
   "source": [
    "# We only use tensorflow for loading the mnist dataset \n",
    "from tensorflow.keras.datasets import mnist\n",
    "(x_train, y_train), (x_test, y_test) = mnist.load_data()\n",
    "\n",
    "x_train_flat = einops.rearrange(x_train,\"batches w h -> batches (w h)\") / 255.0\n",
    "x_test_flat = einops.rearrange(x_test,\"batches w h -> batches (w h)\") / 255.0\n",
    "y_train_1hot = jax.nn.one_hot(y_train,num_classes=10,axis=-1)\n",
    "y_test_1hot = jax.nn.one_hot(y_test,num_classes=10,axis=-1)"
   ]
  },
  {
   "cell_type": "markdown",
   "metadata": {},
   "source": [
    "### Define a neural network by inheriting from `eqx.Module`:\n",
    "- This simplifies the syntax of JAX gradient calculations\n",
    "- `eqx.Module`:\n",
    "    - Classes inheriting from `eqx.Module` will be a python `dataclass`, meaning you have to define any self.variables at the class level, i.e. the `layers: list` before the `__init__`. This just forces you to be a bit cleaner in your software engineering\n",
    "    - See https://docs.kidger.site/equinox/api/module/module/\n",
    "- `eqx.nn`:\n",
    "    - `eqx.nn.Linear` constructs a linear layer, but there are many other layers included in this library\n",
    "    - See https://docs.kidger.site/equinox/api/nn/linear/\n",
    "- Notice that we also have some `jax.nn` functions. In general, any pure jax function will work in an eqx.Module model, and will be treated correctly during training"
   ]
  },
  {
   "cell_type": "code",
   "execution_count": 3,
   "metadata": {},
   "outputs": [],
   "source": [
    "class SimpleNetwork(eqx.Module):\n",
    "    layers: list\n",
    "\n",
    "    def __init__(self,input_size,hidden_size,output_size,key):\n",
    "        key1, key2 = jax.random.split(key, 2)\n",
    "        self.layers = [\n",
    "            eqx.nn.Linear(input_size,hidden_size,key=key1),\n",
    "            jax.nn.relu,\n",
    "            eqx.nn.Linear(hidden_size,output_size,key=key2),\n",
    "            jax.nn.softmax\n",
    "        ]\n",
    "    \n",
    "    def __call__(self,x):\n",
    "        for L in self.layers:\n",
    "            x = L(x)\n",
    "        return x"
   ]
  },
  {
   "cell_type": "markdown",
   "metadata": {},
   "source": [
    "### `loss` function doesn't need explicit model parameters as inputs"
   ]
  },
  {
   "cell_type": "code",
   "execution_count": 4,
   "metadata": {},
   "outputs": [],
   "source": [
    "@eqx.filter_value_and_grad\n",
    "def loss(model,x,y):\n",
    "    y_predicted = jax.vmap(model,in_axes=0,out_axes=0,axis_name=\"BATCHES\")(x)\n",
    "\n",
    "    #print(y_predicted)\n",
    "    #return np.mean((y_predicted-y)**2)\n",
    "    return -np.mean(y*np.log(y_predicted))"
   ]
  },
  {
   "cell_type": "markdown",
   "metadata": {},
   "source": [
    "### Training loop is a bit more involved now:\n",
    "- the `@eqx.filter_jit` wrapper around the `make_step` function performs Just In Time compilation\n",
    "    - this will run slower on the first call, but on every subsequent call will run much faster than normal python\n",
    "- `optax.adam` is a more sophisticated optimiser than the one we wrote\n",
    "    - the expression `optim.init(eqx.filter(model, eqx.is_array))` initialises the optimiser on the parts of model that are arrays\n",
    "    - the optimiser also has it's own internal state (to keep track of momentum). This is passed around as the `opt_state` variable"
   ]
  },
  {
   "cell_type": "code",
   "execution_count": 13,
   "metadata": {},
   "outputs": [],
   "source": [
    "def train(model,steps,key,LEARN_RATE=1e-3,BATCH_SIZE=32):\n",
    "\n",
    "    optim = optax.adam(LEARN_RATE)\n",
    "    opt_state = optim.init(eqx.filter(model, eqx.is_array))\n",
    "    loss_log = []\n",
    "    \n",
    "    @eqx.filter_jit\n",
    "    def make_step(model,opt_state,X,Y):\n",
    "        loss_value,grad = loss(model,X,Y)\n",
    "        updates, opt_state = optim.update(grad, opt_state, model)\n",
    "        model = eqx.apply_updates(model, updates)\n",
    "        return model, opt_state, loss_value\n",
    "    \n",
    "    #train_key = jr.fold_in(key,1)\n",
    "    for i in tqdm(range(steps)):\n",
    "        train_key = jr.fold_in(key,i)\n",
    "        inds = jr.choice(train_key,np.arange(60000),(BATCH_SIZE,),replace=False)\n",
    "        x = x_train_flat[inds]\n",
    "        y = y_train_1hot[inds]\n",
    "        #print(x.shape)\n",
    "        \n",
    "        model, opt_state, train_loss = make_step(model, opt_state, x, y)\n",
    "        \n",
    "        \n",
    "        loss_log.append(train_loss)\n",
    "        if i%10==0:\n",
    "            tqdm.write(\"Loss at step \"+str(i)+\": \"+str(train_loss))\n",
    "    plt.plot(loss_log)\n",
    "    plt.show()\n",
    "    return model"
   ]
  },
  {
   "cell_type": "code",
   "execution_count": 14,
   "metadata": {},
   "outputs": [
    {
     "data": {
      "application/vnd.jupyter.widget-view+json": {
       "model_id": "30669172a6714645b91d5994a3bc9c91",
       "version_major": 2,
       "version_minor": 0
      },
      "text/plain": [
       "  0%|          | 0/1000 [00:00<?, ?it/s]"
      ]
     },
     "metadata": {},
     "output_type": "display_data"
    },
    {
     "name": "stdout",
     "output_type": "stream",
     "text": [
      "Loss at step 0: 0.23129778\n",
      "Loss at step 10: 0.20113729\n",
      "Loss at step 20: 0.16250508\n",
      "Loss at step 30: 0.14718717\n",
      "Loss at step 40: 0.12666811\n",
      "Loss at step 50: 0.07449426\n",
      "Loss at step 60: 0.059476893\n",
      "Loss at step 70: 0.060595542\n",
      "Loss at step 80: 0.06719347\n",
      "Loss at step 90: 0.057093967\n",
      "Loss at step 100: 0.08894007\n",
      "Loss at step 110: 0.089366786\n",
      "Loss at step 120: 0.05702744\n",
      "Loss at step 130: 0.03153726\n",
      "Loss at step 140: 0.031151308\n",
      "Loss at step 150: 0.05384567\n",
      "Loss at step 160: 0.038259313\n",
      "Loss at step 170: 0.06501317\n",
      "Loss at step 180: 0.050509673\n",
      "Loss at step 190: 0.051974814\n",
      "Loss at step 200: 0.05399394\n",
      "Loss at step 210: 0.040573575\n",
      "Loss at step 220: 0.032866076\n",
      "Loss at step 230: 0.053656217\n",
      "Loss at step 240: 0.018527383\n",
      "Loss at step 250: 0.028726075\n",
      "Loss at step 260: 0.041564744\n",
      "Loss at step 270: 0.041526314\n",
      "Loss at step 280: 0.025707064\n",
      "Loss at step 290: 0.042811632\n",
      "Loss at step 300: 0.024884013\n",
      "Loss at step 310: 0.018526936\n",
      "Loss at step 320: 0.027680684\n",
      "Loss at step 330: 0.018082293\n",
      "Loss at step 340: 0.030413685\n",
      "Loss at step 350: 0.04598555\n",
      "Loss at step 360: 0.03533083\n",
      "Loss at step 370: 0.022926936\n",
      "Loss at step 380: 0.028433783\n",
      "Loss at step 390: 0.034965884\n",
      "Loss at step 400: 0.012199734\n",
      "Loss at step 410: 0.029770175\n",
      "Loss at step 420: 0.031074524\n",
      "Loss at step 430: 0.014909841\n",
      "Loss at step 440: 0.043363627\n",
      "Loss at step 450: 0.013716826\n",
      "Loss at step 460: 0.030268822\n",
      "Loss at step 470: 0.027417963\n",
      "Loss at step 480: 0.046102222\n",
      "Loss at step 490: 0.022604214\n",
      "Loss at step 500: 0.030040234\n",
      "Loss at step 510: 0.030169362\n",
      "Loss at step 520: 0.015078984\n",
      "Loss at step 530: 0.038494032\n",
      "Loss at step 540: 0.020251928\n",
      "Loss at step 550: 0.01770134\n",
      "Loss at step 560: 0.016876778\n",
      "Loss at step 570: 0.011237287\n",
      "Loss at step 580: 0.031737223\n",
      "Loss at step 590: 0.034757867\n",
      "Loss at step 600: 0.015604995\n",
      "Loss at step 610: 0.0125187775\n",
      "Loss at step 620: 0.02662753\n",
      "Loss at step 630: 0.017481836\n",
      "Loss at step 640: 0.035401046\n",
      "Loss at step 650: 0.016517023\n",
      "Loss at step 660: 0.015853269\n",
      "Loss at step 670: 0.053746056\n",
      "Loss at step 680: 0.030034153\n",
      "Loss at step 690: 0.036080733\n",
      "Loss at step 700: 0.045960676\n",
      "Loss at step 710: 0.015506037\n",
      "Loss at step 720: 0.011746849\n",
      "Loss at step 730: 0.01697418\n",
      "Loss at step 740: 0.061897155\n",
      "Loss at step 750: 0.040086247\n",
      "Loss at step 760: 0.020770106\n",
      "Loss at step 770: 0.046901654\n",
      "Loss at step 780: 0.012557623\n",
      "Loss at step 790: 0.02843153\n",
      "Loss at step 800: 0.023736551\n",
      "Loss at step 810: 0.013743754\n",
      "Loss at step 820: 0.03984253\n",
      "Loss at step 830: 0.019445147\n",
      "Loss at step 840: 0.025590613\n",
      "Loss at step 850: 0.03131903\n",
      "Loss at step 860: 0.013539177\n",
      "Loss at step 870: 0.03608004\n",
      "Loss at step 880: 0.010505135\n",
      "Loss at step 890: 0.007458093\n",
      "Loss at step 900: 0.039079726\n",
      "Loss at step 910: 0.042554475\n",
      "Loss at step 920: 0.033818316\n",
      "Loss at step 930: 0.045821737\n",
      "Loss at step 940: 0.016957644\n",
      "Loss at step 950: 0.040834706\n",
      "Loss at step 960: 0.046793588\n",
      "Loss at step 970: 0.01739875\n",
      "Loss at step 980: 0.017961297\n",
      "Loss at step 990: 0.04795411\n"
     ]
    },
    {
     "data": {
      "image/png": "[encoded data removed]",
      "text/plain": [
       "<Figure size 640x480 with 1 Axes>"
      ]
     },
     "metadata": {},
     "output_type": "display_data"
    }
   ],
   "source": [
    "key = jr.PRNGKey(12345)\n",
    "nn = SimpleNetwork(784,100,10,key)\n",
    "nn = train(nn,1000,key)"
   ]
  },
  {
   "cell_type": "markdown",
   "metadata": {},
   "source": [
    "### Let's evaluate our trained model on the test dataset\n",
    "- A confusion matrix is a useful way to visualise this\n",
    "    - each entry $C_{ij}$ counts how many times an image of class $i$ was labelled as class $j$\n",
    "    - If our model is perfect, this matrix should be diagonal\n",
    "    - It can be helpful to understand if there are two classes of images that are often confused"
   ]
  },
  {
   "cell_type": "code",
   "execution_count": null,
   "metadata": {},
   "outputs": [],
   "source": [
    "y_test_predictions = np.argmax(jax.vmap(nn)(x_test_flat),axis=1) # By taking the maximum of the output probability distribution, we are forcing the model to discretely choose a number\n",
    "confusion_matrix = np.zeros((10,10))\n",
    "for i in range(len(y_test)):\n",
    "    confusion_matrix = confusion_matrix.at[y_test[i],y_test_predictions[i]].set(confusion_matrix[y_test[i],y_test_predictions[i]]+1)\n",
    "\n",
    "\n"
   ]
  },
  {
   "cell_type": "code",
   "execution_count": null,
   "metadata": {},
   "outputs": [],
   "source": [
    "plt.imshow(confusion_matrix)"
   ]
  }
 ],
 "metadata": {
  "kernelspec": {
   "display_name": "Python 3",
   "language": "python",
   "name": "python3"
  },
  "language_info": {
   "codemirror_mode": {
    "name": "ipython",
    "version": 3
   },
   "file_extension": ".py",
   "mimetype": "text/x-python",
   "name": "python",
   "nbconvert_exporter": "python",
   "pygments_lexer": "ipython3",
   "version": "3.11.0"
  }
 },
 "nbformat": 4,
 "nbformat_minor": 2
}
