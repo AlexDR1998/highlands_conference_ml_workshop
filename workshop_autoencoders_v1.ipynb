{
 "cells": [
  {
   "cell_type": "code",
   "execution_count": 1,
   "metadata": {},
   "outputs": [],
   "source": [
    "import jax\n",
    "import jax.numpy as np\n",
    "import jax.random as jr\n",
    "import optax\n",
    "import equinox as eqx \n",
    "import diffrax \n",
    "from tqdm.notebook import tqdm\n",
    "import matplotlib.pyplot as plt\n",
    "import time"
   ]
  },
  {
   "cell_type": "markdown",
   "metadata": {},
   "source": [
    "# Unsupervised learning\n",
    "- In unsupervised learning we only have the inputs to our function, but no labels/targets/outputs. But we still want to learn a function that gives useful insight to the input data\n",
    "- Consider the images used previously:\n",
    "    - they are high dimensional vectors (in $\\mathbf{R}^{784}$).\n",
    "    - However, actual images of handwritten digits is a very small subset of all possible 28*28 images\n",
    "    - We assume/hypothesise that the dataset x_train exists on some lower dimensional manifold, embedded in $\\mathbf{R}^{784}$\n",
    "    - Can we learn a projection onto that manifold?"
   ]
  },
  {
   "cell_type": "code",
   "execution_count": 2,
   "metadata": {},
   "outputs": [],
   "source": [
    "SEED = 1234\n",
    "key = jr.PRNGKey(SEED) # JAX is very explicit with pseudo-random numbers, such that everything can be kept as a \"pure\" function when needed"
   ]
  },
  {
   "cell_type": "markdown",
   "metadata": {},
   "source": [
    "## Import the MNIST dataset as before\n",
    " - although now we only really care about X"
   ]
  },
  {
   "cell_type": "code",
   "execution_count": 3,
   "metadata": {},
   "outputs": [
    {
     "name": "stderr",
     "output_type": "stream",
     "text": [
      "2024-02-21 16:23:20.269462: E external/local_xla/xla/stream_executor/cuda/cuda_dnn.cc:9261] Unable to register cuDNN factory: Attempting to register factory for plugin cuDNN when one has already been registered\n",
      "2024-02-21 16:23:20.269545: E external/local_xla/xla/stream_executor/cuda/cuda_fft.cc:607] Unable to register cuFFT factory: Attempting to register factory for plugin cuFFT when one has already been registered\n",
      "2024-02-21 16:23:20.313971: E external/local_xla/xla/stream_executor/cuda/cuda_blas.cc:1515] Unable to register cuBLAS factory: Attempting to register factory for plugin cuBLAS when one has already been registered\n",
      "2024-02-21 16:23:21.931555: W tensorflow/compiler/tf2tensorrt/utils/py_utils.cc:38] TF-TRT Warning: Could not find TensorRT\n"
     ]
    }
   ],
   "source": [
    "from tensorflow.keras.datasets import mnist\n",
    "(x_train, y_train), (x_test, y_test) = mnist.load_data()\n",
    "x_train = x_train[:,np.newaxis] / 255.0\n",
    "\n",
    "x_test = x_test[:,np.newaxis] / 255.0"
   ]
  },
  {
   "cell_type": "markdown",
   "metadata": {},
   "source": [
    "## Lets define a convolutional autoencoder\n",
    "- Here the `eqx.nn.Conv2D` layers perform 2d convolutions\n",
    "- `eqx.nn.MaxPool2d` downsamples to smaller images\n",
    "- `eqx.ConvTranspose2d` upsamples again to higher resolution\n",
    "- For convenience and clarity we defined `.encode` and `.decode` methods that map to and from the latent space, and the `__call__` method just does an encode followed by a decode\n",
    "   - If trained properly, encode and decode should be inverses of each other"
   ]
  },
  {
   "cell_type": "code",
   "execution_count": 4,
   "metadata": {},
   "outputs": [],
   "source": [
    "class Autoencoder(eqx.Module):\n",
    "    layers: list\n",
    "\n",
    "    def __init__(self, key,channels=1):\n",
    "        key1, key2, key3, key4, key5, key6, key7 = jax.random.split(key, 7)\n",
    "        # Standard CNN autoencoder - consecutive layers get narrower via MaxPool2d, and the expanded out again via ConvTranspose2d\n",
    "        # with a small MLP on top.\n",
    "        self.layers = [\n",
    "            eqx.nn.Conv2d(channels, 8, kernel_size=6, key=key1),\n",
    "            eqx.nn.MaxPool2d(kernel_size=4),\n",
    "            jax.nn.leaky_relu,\n",
    "            eqx.nn.Conv2d(8, 4, kernel_size=5, key=key2),\n",
    "            eqx.nn.MaxPool2d(kernel_size=4),\n",
    "            jax.nn.leaky_relu,\n",
    "            eqx.nn.Conv2d(4, 4, kernel_size=4, key=key3),\n",
    "            eqx.nn.MaxPool2d(kernel_size=4),\n",
    "            jax.nn.leaky_relu,\n",
    "            eqx.nn.ConvTranspose2d(4,4,kernel_size=4,key=key4),\n",
    "            jax.nn.leaky_relu,\n",
    "            eqx.nn.ConvTranspose2d(4,8,kernel_size=5,stride=2,key=key5),\n",
    "            jax.nn.leaky_relu,\n",
    "            eqx.nn.ConvTranspose2d(8,channels,kernel_size=6,key=key6),\n",
    "            \n",
    "            \n",
    "        ]\n",
    "\n",
    "    def encode(self,x):\n",
    "        for i in range(0,9):\n",
    "            x = self.layers[i](x)\n",
    "        return x\n",
    "    \n",
    "    def decode(self,x):\n",
    "        for i in range(9,14):\n",
    "            x = self.layers[i](x)\n",
    "        return x\n",
    "    def __call__(self, x):\n",
    "        x = self.encode(x)\n",
    "        x = self.decode(x)\n",
    "        \n",
    "        return x"
   ]
  },
  {
   "cell_type": "markdown",
   "metadata": {},
   "source": [
    "## We can also add other functions into our model\n",
    "- `eqx.Modules` are pretty general - we don't have to stick to things in the equinox library\n",
    "- Lets explore using fast fourier transforms (FFT) as part of the encoding process, and inverse FFTs in the decoder\n",
    "- We can also use one `eqx.Module` subclass in another, so we can just use the same layers as are in `Autoencoder` and sandwich them between FFT and iFFT"
   ]
  },
  {
   "cell_type": "code",
   "execution_count": 5,
   "metadata": {},
   "outputs": [],
   "source": [
    "class FFT_Autoencoder(eqx.Module):\n",
    "    fft_layers: list\n",
    "    ifft_layers: list\n",
    "    autoencoder_model: Autoencoder\n",
    "    def __init__(self,key):\n",
    "        self.autoencoder_model = Autoencoder(key,channels=2) # Using 2 channels for real and imaginary components\n",
    "         \n",
    "\n",
    "    \n",
    "        def concat(c):\n",
    "            re = c.real\n",
    "            im = c.imag\n",
    "            return np.concatenate((re,im),axis=0)\n",
    "    \n",
    "        def unconcat(re_im):\n",
    "            c = re_im[0] + re_im[1]*1j\n",
    "            c = c[np.newaxis]\n",
    "            return c\n",
    "        \n",
    "        self.fft_layers = [np.fft.fft2,\n",
    "                           lambda x:np.fft.fftshift(x,axes=(-1,-2)),\n",
    "                           concat]\n",
    "        self.ifft_layers=[unconcat,\n",
    "                          lambda x:np.fft.ifftshift(x,axes=(-1,-2)),\n",
    "                          lambda x:np.fft.irfft2(x,s=(28,28))]\n",
    "\n",
    "    def encode(self,x):\n",
    "        for L in self.fft_layers:\n",
    "            x = L(x)\n",
    "        x = self.autoencoder_model.encode(x)\n",
    "        return x\n",
    "        \n",
    "    def decode(self,x):\n",
    "        x = self.autoencoder_model.decode(x)\n",
    "        for L in self.ifft_layers:\n",
    "            x = L(x)\n",
    "        return x\n",
    "\n",
    "    def __call__(self,x):\n",
    "        x = self.encode(x)\n",
    "        x = self.decode(x)\n",
    "        return x\n",
    "        \n",
    "    "
   ]
  },
  {
   "cell_type": "markdown",
   "metadata": {},
   "source": [
    "## Define a loss function\n",
    "- Here just a mean square distance will do"
   ]
  },
  {
   "cell_type": "code",
   "execution_count": 6,
   "metadata": {},
   "outputs": [],
   "source": [
    "def loss(model,X):\n",
    "    v_model = jax.vmap(model,in_axes=0,out_axes=0)\n",
    "    pred = v_model(X)\n",
    "    return np.mean((pred-X)**2)"
   ]
  },
  {
   "cell_type": "markdown",
   "metadata": {},
   "source": [
    "## Define the training procedure\n",
    "- This is pretty standard and almost the same as before, except we are only using $X$"
   ]
  },
  {
   "cell_type": "code",
   "execution_count": 7,
   "metadata": {},
   "outputs": [],
   "source": [
    "def train(model,steps,LEARN_RATE=1e-3,BATCH_SIZE=128):\n",
    "\n",
    "    optim = optax.adam(LEARN_RATE)\n",
    "    opt_state = optim.init(eqx.filter(model, eqx.is_array))\n",
    "    loss_log = []\n",
    "    \n",
    "    @eqx.filter_jit # Wrap this in a filter_jit to speed things up\n",
    "    def make_step(model,opt_state,X):\n",
    "        loss_value,grad = eqx.filter_value_and_grad(loss)(model,X)\n",
    "        updates, opt_state = optim.update(grad, opt_state, model)\n",
    "        model = eqx.apply_updates(model, updates)\n",
    "        return model, opt_state, loss_value\n",
    "   \n",
    "    train_key = jr.fold_in(key,1)\n",
    "    for i in tqdm(range(steps)):\n",
    "        train_key = jr.fold_in(train_key,i)\n",
    "        # Choose which samples from x_train to fit to this iteration\n",
    "        inds = jr.choice(train_key,np.arange(60000),(BATCH_SIZE,),replace=False)\n",
    "        x = x_train[inds]\n",
    "        \n",
    "        # Do the actual gradient update\n",
    "        model, opt_state, train_loss = make_step(model, opt_state, x)\n",
    "        loss_log.append(train_loss)\n",
    "        if i%10==0:\n",
    "            tqdm.write(\"Loss at step \"+str(i)+\": \"+str(train_loss))\n",
    "    \n",
    "    return model,loss_log"
   ]
  },
  {
   "cell_type": "markdown",
   "metadata": {},
   "source": [
    "### Lets see if adding FFTs as a preprocessing step helped"
   ]
  },
  {
   "cell_type": "code",
   "execution_count": 8,
   "metadata": {},
   "outputs": [],
   "source": [
    "subkey = jr.fold_in(key,int(time.time()))\n",
    "key1,key2 = jr.split(subkey)\n",
    "model = Autoencoder(key1)\n",
    "model_fft = FFT_Autoencoder(key2)"
   ]
  },
  {
   "cell_type": "code",
   "execution_count": 9,
   "metadata": {},
   "outputs": [
    {
     "data": {
      "application/vnd.jupyter.widget-view+json": {
       "model_id": "c81f65439dc9443ea4717940a2fb05e2",
       "version_major": 2,
       "version_minor": 0
      },
      "text/plain": [
       "  0%|          | 0/1000 [00:00<?, ?it/s]"
      ]
     },
     "metadata": {},
     "output_type": "display_data"
    },
    {
     "name": "stdout",
     "output_type": "stream",
     "text": [
      "Loss at step 0: 0.11396565\n",
      "Loss at step 10: 0.11155717\n",
      "Loss at step 20: 0.10384742\n",
      "Loss at step 30: 0.10485035\n",
      "Loss at step 40: 0.10597076\n",
      "Loss at step 50: 0.11194127\n",
      "Loss at step 60: 0.09986796\n",
      "Loss at step 70: 0.09650511\n",
      "Loss at step 80: 0.09210079\n",
      "Loss at step 90: 0.09005191\n",
      "Loss at step 100: 0.08385242\n",
      "Loss at step 110: 0.070062175\n",
      "Loss at step 120: 0.07327917\n",
      "Loss at step 130: 0.06139319\n",
      "Loss at step 140: 0.061506577\n",
      "Loss at step 150: 0.072034545\n",
      "Loss at step 160: 0.057071596\n",
      "Loss at step 170: 0.059979256\n",
      "Loss at step 180: 0.06399518\n",
      "Loss at step 190: 0.06084988\n",
      "Loss at step 200: 0.05776096\n",
      "Loss at step 210: 0.0630465\n",
      "Loss at step 220: 0.05772993\n",
      "Loss at step 230: 0.057961836\n",
      "Loss at step 240: 0.055033777\n",
      "Loss at step 250: 0.057491798\n",
      "Loss at step 260: 0.06087418\n",
      "Loss at step 270: 0.05966223\n",
      "Loss at step 280: 0.06530458\n",
      "Loss at step 290: 0.05278702\n",
      "Loss at step 300: 0.055410657\n",
      "Loss at step 310: 0.05940457\n",
      "Loss at step 320: 0.054897103\n",
      "Loss at step 330: 0.059193492\n",
      "Loss at step 340: 0.05787375\n",
      "Loss at step 350: 0.057828594\n",
      "Loss at step 360: 0.060073115\n",
      "Loss at step 370: 0.0591391\n",
      "Loss at step 380: 0.053321242\n",
      "Loss at step 390: 0.051941607\n",
      "Loss at step 400: 0.05844179\n",
      "Loss at step 410: 0.056812465\n",
      "Loss at step 420: 0.04839184\n",
      "Loss at step 430: 0.051541597\n",
      "Loss at step 440: 0.052736156\n",
      "Loss at step 450: 0.055971656\n",
      "Loss at step 460: 0.06202512\n",
      "Loss at step 470: 0.05558162\n",
      "Loss at step 480: 0.051841423\n",
      "Loss at step 490: 0.049464818\n",
      "Loss at step 500: 0.054674603\n",
      "Loss at step 510: 0.052261293\n",
      "Loss at step 520: 0.053936217\n",
      "Loss at step 530: 0.055408772\n",
      "Loss at step 540: 0.05405889\n",
      "Loss at step 550: 0.055976808\n",
      "Loss at step 560: 0.052806236\n",
      "Loss at step 570: 0.055337843\n",
      "Loss at step 580: 0.053070944\n",
      "Loss at step 590: 0.055007372\n",
      "Loss at step 600: 0.05142892\n",
      "Loss at step 610: 0.052024625\n",
      "Loss at step 620: 0.051419742\n",
      "Loss at step 630: 0.050748665\n",
      "Loss at step 640: 0.049612876\n",
      "Loss at step 650: 0.050533917\n",
      "Loss at step 660: 0.05067265\n",
      "Loss at step 670: 0.05186673\n",
      "Loss at step 680: 0.05401361\n",
      "Loss at step 690: 0.049047563\n",
      "Loss at step 700: 0.05073933\n",
      "Loss at step 710: 0.052924696\n",
      "Loss at step 720: 0.04820627\n",
      "Loss at step 730: 0.050382808\n",
      "Loss at step 740: 0.05580988\n",
      "Loss at step 750: 0.05205711\n",
      "Loss at step 760: 0.051142797\n",
      "Loss at step 770: 0.048738882\n",
      "Loss at step 780: 0.05511171\n",
      "Loss at step 790: 0.050448783\n",
      "Loss at step 800: 0.054820973\n",
      "Loss at step 810: 0.047752514\n",
      "Loss at step 820: 0.05075643\n",
      "Loss at step 830: 0.049824882\n",
      "Loss at step 840: 0.055126064\n",
      "Loss at step 850: 0.051007748\n",
      "Loss at step 860: 0.046994437\n",
      "Loss at step 870: 0.049379274\n",
      "Loss at step 880: 0.047794297\n",
      "Loss at step 890: 0.047579847\n",
      "Loss at step 900: 0.051749986\n",
      "Loss at step 910: 0.05608805\n",
      "Loss at step 920: 0.049775742\n",
      "Loss at step 930: 0.046989687\n",
      "Loss at step 940: 0.04961094\n",
      "Loss at step 950: 0.056219917\n",
      "Loss at step 960: 0.044307474\n",
      "Loss at step 970: 0.048324715\n",
      "Loss at step 980: 0.049420822\n",
      "Loss at step 990: 0.04902943\n"
     ]
    },
    {
     "data": {
      "application/vnd.jupyter.widget-view+json": {
       "model_id": "e34f562ed7d1455bbcdaa7162b2a5233",
       "version_major": 2,
       "version_minor": 0
      },
      "text/plain": [
       "  0%|          | 0/1000 [00:00<?, ?it/s]"
      ]
     },
     "metadata": {},
     "output_type": "display_data"
    },
    {
     "name": "stdout",
     "output_type": "stream",
     "text": [
      "Loss at step 0: 0.11595053\n",
      "Loss at step 10: 0.074542485\n",
      "Loss at step 20: 0.06826914\n",
      "Loss at step 30: 0.06947146\n",
      "Loss at step 40: 0.06936698\n",
      "Loss at step 50: 0.07320465\n",
      "Loss at step 60: 0.06445677\n",
      "Loss at step 70: 0.064576894\n",
      "Loss at step 80: 0.06584473\n",
      "Loss at step 90: 0.06802457\n",
      "Loss at step 100: 0.0668403\n",
      "Loss at step 110: 0.060232863\n",
      "Loss at step 120: 0.06531347\n",
      "Loss at step 130: 0.05814885\n",
      "Loss at step 140: 0.059097204\n",
      "Loss at step 150: 0.07035662\n",
      "Loss at step 160: 0.055810187\n",
      "Loss at step 170: 0.05757681\n",
      "Loss at step 180: 0.0608282\n",
      "Loss at step 190: 0.058080547\n",
      "Loss at step 200: 0.05294168\n",
      "Loss at step 210: 0.06566662\n",
      "Loss at step 220: 0.056798905\n",
      "Loss at step 230: 0.055846367\n",
      "Loss at step 240: 0.051139466\n",
      "Loss at step 250: 0.05173321\n",
      "Loss at step 260: 0.05449349\n",
      "Loss at step 270: 0.05241118\n",
      "Loss at step 280: 0.055500634\n",
      "Loss at step 290: 0.04677037\n",
      "Loss at step 300: 0.047584835\n",
      "Loss at step 310: 0.05001456\n",
      "Loss at step 320: 0.04439189\n",
      "Loss at step 330: 0.04960314\n",
      "Loss at step 340: 0.050936278\n",
      "Loss at step 350: 0.048771527\n",
      "Loss at step 360: 0.050219145\n",
      "Loss at step 370: 0.049034648\n",
      "Loss at step 380: 0.043999005\n",
      "Loss at step 390: 0.042247094\n",
      "Loss at step 400: 0.047368057\n",
      "Loss at step 410: 0.04613524\n",
      "Loss at step 420: 0.043440867\n",
      "Loss at step 430: 0.039919954\n",
      "Loss at step 440: 0.042212278\n",
      "Loss at step 450: 0.046079718\n",
      "Loss at step 460: 0.047268692\n",
      "Loss at step 470: 0.04493211\n",
      "Loss at step 480: 0.04002959\n",
      "Loss at step 490: 0.03980354\n",
      "Loss at step 500: 0.043617558\n",
      "Loss at step 510: 0.04083405\n",
      "Loss at step 520: 0.04219761\n",
      "Loss at step 530: 0.043656554\n",
      "Loss at step 540: 0.04407901\n",
      "Loss at step 550: 0.043742374\n",
      "Loss at step 560: 0.041659098\n",
      "Loss at step 570: 0.043082338\n",
      "Loss at step 580: 0.045886848\n",
      "Loss at step 590: 0.04399236\n",
      "Loss at step 600: 0.040365677\n",
      "Loss at step 610: 0.038962644\n",
      "Loss at step 620: 0.040583864\n",
      "Loss at step 630: 0.040055893\n",
      "Loss at step 640: 0.038161606\n",
      "Loss at step 650: 0.03966246\n",
      "Loss at step 660: 0.039978735\n",
      "Loss at step 670: 0.03932755\n",
      "Loss at step 680: 0.042771615\n",
      "Loss at step 690: 0.036874406\n",
      "Loss at step 700: 0.03833783\n",
      "Loss at step 710: 0.040948365\n",
      "Loss at step 720: 0.035743512\n",
      "Loss at step 730: 0.037307553\n",
      "Loss at step 740: 0.044609394\n",
      "Loss at step 750: 0.03965956\n",
      "Loss at step 760: 0.0390806\n",
      "Loss at step 770: 0.04315013\n",
      "Loss at step 780: 0.050758768\n",
      "Loss at step 790: 0.04440712\n",
      "Loss at step 800: 0.046798944\n",
      "Loss at step 810: 0.044174943\n",
      "Loss at step 820: 0.04313851\n",
      "Loss at step 830: 0.041631237\n",
      "Loss at step 840: 0.04988804\n",
      "Loss at step 850: 0.044921413\n",
      "Loss at step 860: 0.04020334\n",
      "Loss at step 870: 0.0439443\n",
      "Loss at step 880: 0.044566654\n",
      "Loss at step 890: 0.04114597\n",
      "Loss at step 900: 0.045100503\n",
      "Loss at step 910: 0.049716253\n",
      "Loss at step 920: 0.043360442\n",
      "Loss at step 930: 0.041330304\n",
      "Loss at step 940: 0.043837\n",
      "Loss at step 950: 0.047975548\n",
      "Loss at step 960: 0.037607655\n",
      "Loss at step 970: 0.03947058\n",
      "Loss at step 980: 0.04392143\n",
      "Loss at step 990: 0.043145552\n"
     ]
    }
   ],
   "source": [
    "model_fft_trained,losses_fft = train(model_fft,1000,LEARN_RATE=1e-2,BATCH_SIZE=32)\n",
    "model_trained,losses = train(model,1000,LEARN_RATE=1e-2,BATCH_SIZE=32)"
   ]
  },
  {
   "cell_type": "code",
   "execution_count": 10,
   "metadata": {},
   "outputs": [
    {
     "data": {
      "image/png": "[encoded data removed]",
      "text/plain": [
       "<Figure size 640x480 with 1 Axes>"
      ]
     },
     "metadata": {},
     "output_type": "display_data"
    }
   ],
   "source": [
    "plt.plot(losses_fft,label=\"fft autoencoder\")\n",
    "plt.plot(losses,label=\"autoencoder\")\n",
    "plt.show()"
   ]
  },
  {
   "cell_type": "markdown",
   "metadata": {},
   "source": [
    "### How to assess performance?\n",
    "- the ratio between latent space and input space dimensions acts as a measure of compression ratio\n",
    "- We can visualise pairs of inputs and outputs of the autoencoders\n",
    "- We can also visualise aspects of the latent spaces\n"
   ]
  },
  {
   "cell_type": "code",
   "execution_count": 11,
   "metadata": {},
   "outputs": [
    {
     "name": "stdout",
     "output_type": "stream",
     "text": [
      "Compression ration: 0.25\n"
     ]
    },
    {
     "data": {
      "image/png": "[encoded data removed]",
      "text/plain": [
       "<Figure size 640x480 with 1 Axes>"
      ]
     },
     "metadata": {},
     "output_type": "display_data"
    },
    {
     "data": {
      "image/png": "[encoded data removed]",
      "text/plain": [
       "<Figure size 640x480 with 1 Axes>"
      ]
     },
     "metadata": {},
     "output_type": "display_data"
    },
    {
     "data": {
      "image/png": "[encoded data removed]",
      "text/plain": [
       "<Figure size 640x480 with 1 Axes>"
      ]
     },
     "metadata": {},
     "output_type": "display_data"
    },
    {
     "data": {
      "image/png": "[encoded data removed]",
      "text/plain": [
       "<Figure size 640x480 with 1 Axes>"
      ]
     },
     "metadata": {},
     "output_type": "display_data"
    },
    {
     "data": {
      "image/png": "[encoded data removed]",
      "text/plain": [
       "<Figure size 640x480 with 1 Axes>"
      ]
     },
     "metadata": {},
     "output_type": "display_data"
    }
   ],
   "source": [
    "\n",
    "\n",
    "I = 5\n",
    "embedding = model_fft_trained.encode(x_test[I])\n",
    "output = model_fft_trained.decode(embedding)\n",
    "\n",
    "embedding_fft = model_trained.encode(x_test[I])\n",
    "output_fft = model_trained.decode(embedding_fft)\n",
    "#print(embedding)\n",
    "\n",
    "latent_space = embedding.flatten().shape[0]\n",
    "input_space = output.flatten().shape[0]\n",
    "\n",
    "print(\"Compression ration: \"+str(latent_space/input_space))\n",
    "plt.imshow(x_test[I,0])\n",
    "plt.show()\n",
    "\n",
    "plt.imshow(embedding[0])\n",
    "plt.show()\n",
    "plt.imshow(output[0])\n",
    "plt.show()\n",
    "\n",
    "plt.imshow(embedding_fft[0])\n",
    "plt.show()\n",
    "plt.imshow(output_fft[0])\n",
    "plt.show()"
   ]
  }
 ],
 "metadata": {
  "kernelspec": {
   "display_name": "Python 3",
   "language": "python",
   "name": "python3"
  },
  "language_info": {
   "codemirror_mode": {
    "name": "ipython",
    "version": 3
   },
   "file_extension": ".py",
   "mimetype": "text/x-python",
   "name": "python",
   "nbconvert_exporter": "python",
   "pygments_lexer": "ipython3",
   "version": "3.11.8"
  }
 },
 "nbformat": 4,
 "nbformat_minor": 2
}
