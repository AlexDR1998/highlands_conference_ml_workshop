{
 "cells": [
  {
   "cell_type": "markdown",
   "metadata": {},
   "source": [
    "# Neural ODEs\n",
    " - In this notebook we will train a neural differential equation to map images of each MNIST integer to the next one along\n",
    " - We will make use of the autoencoder style network used in the autoencoder workshop"
   ]
  },
  {
   "cell_type": "code",
   "execution_count": 2,
   "metadata": {},
   "outputs": [],
   "source": [
    "import jax\n",
    "import jax.numpy as np\n",
    "import jax.random as jr\n",
    "import optax\n",
    "import equinox as eqx \n",
    "import einops\n",
    "import diffrax \n",
    "from tqdm.notebook import tqdm\n",
    "import matplotlib.pyplot as plt\n",
    "import time"
   ]
  },
  {
   "cell_type": "code",
   "execution_count": 7,
   "metadata": {},
   "outputs": [],
   "source": [
    "SEED = 1234\n",
    "key = jr.PRNGKey(SEED) # JAX is very explicit with pseudo-random numbers, such that everything can be kept as a \"pure\" function when needed"
   ]
  },
  {
   "cell_type": "markdown",
   "metadata": {},
   "source": [
    "## Data loading is a bit different now\n",
    "- We need to sort our dataset by what the integers are\n",
    "- Now the batch index selects what number the image represents"
   ]
  },
  {
   "cell_type": "code",
   "execution_count": 164,
   "metadata": {},
   "outputs": [
    {
     "name": "stdout",
     "output_type": "stream",
     "text": [
      "(5421, 1, 28, 28)\n",
      "(5421, 9, 1, 28, 28)\n"
     ]
    }
   ],
   "source": [
    "from tensorflow.keras.datasets import mnist\n",
    "(x_train, y_train), (x_test, y_test) = mnist.load_data()\n",
    "x_train = x_train[:,np.newaxis] / 255.0\n",
    "x_test = x_test[:,np.newaxis] / 255.0\n",
    "\n",
    "#x_train = x_train - einops.reduce(x_train,\"B i x y -> B i () ()\",\"mean\")\n",
    "#x_test = x_test - einops.reduce(x_test,\"B i x y -> B i () ()\",\"mean\")\n",
    "\n",
    "\n",
    "x_train_grouped = []\n",
    "lengths = []\n",
    "for i in range(10):\n",
    "    x_train_grouped.append(x_train[y_train==i])\n",
    "    lengths.append(x_train_grouped[i].shape[0])\n",
    "\n",
    "minlength = np.min(np.array(lengths))\n",
    "for i in range(10):\n",
    "    x_train_grouped[i] = x_train_grouped[i][:minlength]\n",
    "x_train_grouped = einops.rearrange(x_train_grouped,\"numbers N b x y -> N (b numbers) () x y\")\n",
    "#print(x_train_grouped.shape)\n",
    "\n",
    "X0 = x_train_grouped[:,0]\n",
    "XT = x_train_grouped[:,1:]\n",
    "\n",
    "print(X0.shape)\n",
    "print(XT.shape)"
   ]
  },
  {
   "cell_type": "markdown",
   "metadata": {},
   "source": [
    "## Use the Autoencoder structure as the right hand side of the ODE:\n",
    "- $\\frac{dy}{dt} = F_\\theta(t,y(t))$\n",
    "- In general we can use any function of this form: $F_\\theta:\\mathbb{R}^{1\\times N}\\rightarrow\\mathbb{R}^N$\n",
    "- Generally for good performance with Neural ODEs, we want $F$ to depend on $t$\n",
    "    - In this case we shall use a fully connected feedforward network on the time input and add this to the latent space in the autoencoder\n",
    "- When using a `eqx.Module` derived class in a neural ODE, we need the `__call__` method be of the form `(t,y,args)->y`"
   ]
  },
  {
   "cell_type": "code",
   "execution_count": 138,
   "metadata": {},
   "outputs": [],
   "source": [
    "class Autoencoder(eqx.Module):\n",
    "    encode_layers: list\n",
    "    decode_layers: list\n",
    "    time_encode_layers: list\n",
    "    def __init__(self, key,channels=1):\n",
    "        key1, key2, key3, key4, key5, key6, key7,key8 = jax.random.split(key, 8)\n",
    "        # Standard CNN autoencoder - consecutive layers get narrower via MaxPool2d, and the expanded out again via ConvTranspose2d\n",
    "        # with a small MLP on top.\n",
    "        self.encode_layers = [\n",
    "            eqx.nn.Conv2d(channels, 8, kernel_size=6, key=key1),\n",
    "            eqx.nn.MaxPool2d(kernel_size=4),\n",
    "            jax.nn.gelu,\n",
    "            eqx.nn.Conv2d(8, 4, kernel_size=5, key=key2),\n",
    "            eqx.nn.MaxPool2d(kernel_size=4),\n",
    "            jax.nn.gelu,\n",
    "            eqx.nn.Conv2d(4, 4, kernel_size=4, key=key3),\n",
    "            eqx.nn.MaxPool2d(kernel_size=4),\n",
    "            jax.nn.gelu\n",
    "        ]\n",
    "        self.decode_layers = [\n",
    "            eqx.nn.ConvTranspose2d(4,4,kernel_size=4,key=key4),\n",
    "            jax.nn.gelu,\n",
    "            eqx.nn.ConvTranspose2d(4,8,kernel_size=5,stride=2,key=key5),\n",
    "            jax.nn.gelu,\n",
    "            eqx.nn.ConvTranspose2d(8,channels,kernel_size=6,key=key6),\n",
    "        ]\n",
    "        self.time_encode_layers = [\n",
    "            eqx.nn.Linear(1,100,key=key7),\n",
    "            jax.nn.gelu,\n",
    "            eqx.nn.Linear(100,196,key=key8),\n",
    "            jax.nn.tanh,\n",
    "            lambda x:einops.rearrange(x,\"(k kw kh)-> k kw kh\",kw=7,kh=7)\n",
    "        ]\n",
    "\n",
    "    def encode(self,x):\n",
    "        for L in self.encode_layers:\n",
    "            x = L(x)\n",
    "        return x\n",
    "    \n",
    "    def decode(self,x):\n",
    "        for L in self.decode_layers:\n",
    "            x = L(x)\n",
    "        return x\n",
    "    \n",
    "    def time_encode(self,t):\n",
    "        for L in self.time_encode_layers:\n",
    "            t = L(t)\n",
    "        return t\n",
    "    def __call__(self, t, y, args):\n",
    "        y = self.encode(y)\n",
    "        te = self.time_encode(np.array([t]))\n",
    "        y = y + te\n",
    "        y = self.decode(y)\n",
    "        \n",
    "        return y"
   ]
  },
  {
   "cell_type": "markdown",
   "metadata": {},
   "source": [
    "## Define another `eqx.Module` subclass that solves an ODE\n",
    "- In the `__call__` method here we have `diffrax.diffeqsolve(...)`\n",
    "    - This uses a 5th order adaptive stepsize solver to much better approximate a continous ODE than euler's method (RNNs)\n",
    "- This `ODE_solver` also just works like any other `eqx.Module` - i.e. works with `grad`, `vmap`, `jit`"
   ]
  },
  {
   "cell_type": "code",
   "execution_count": 139,
   "metadata": {},
   "outputs": [],
   "source": [
    "class ODE_solver(eqx.Module):\n",
    "    update: Autoencoder\n",
    "\n",
    "\n",
    "    def __init__(self,key):\n",
    "        self.update = Autoencoder(key)\n",
    "        \n",
    "    def __call__(self, ts, y0):\n",
    "        solution = diffrax.diffeqsolve(\n",
    "            diffrax.ODETerm(self.update),\n",
    "            diffrax.Tsit5(),\n",
    "            t0=ts[0],\n",
    "            t1=ts[-1],\n",
    "            dt0=ts[1] - ts[0],\n",
    "            y0=y0,\n",
    "            stepsize_controller=diffrax.PIDController(rtol=1e-2, atol=1e-4),\n",
    "            saveat=diffrax.SaveAt(ts=ts),\n",
    "        )\n",
    "        return solution.ys"
   ]
  },
  {
   "cell_type": "markdown",
   "metadata": {},
   "source": [
    "## Define the loss function\n",
    " - Here the `jax.vmap` is more subtle, as we want the same time input for all the different X inputs"
   ]
  },
  {
   "cell_type": "code",
   "execution_count": 142,
   "metadata": {},
   "outputs": [],
   "source": [
    "@eqx.filter_value_and_grad\n",
    "def loss(model,x0,xt):\n",
    "    v_model= jax.vmap(lambda y0:model(ts=np.arange(9),y0=y0),in_axes=0,out_axes=0,axis_name=\"BATCH\")\n",
    "    xt_predicted = v_model(x0)\n",
    "    \n",
    "    return np.mean((xt-xt_predicted)**2)"
   ]
  },
  {
   "cell_type": "markdown",
   "metadata": {},
   "source": [
    "## Define the train method\n",
    " - This is pretty standard now - iterate through random batch samples of `X0` and `XT`"
   ]
  },
  {
   "cell_type": "code",
   "execution_count": 143,
   "metadata": {},
   "outputs": [],
   "source": [
    "def train(model,steps,LEARN_RATE=1e-2,BATCH_SIZE=32):\n",
    "    schedule = optax.exponential_decay(LEARN_RATE, transition_steps=steps, decay_rate=0.98)\n",
    "    optim = optax.adam(schedule)\n",
    "    opt_state = optim.init(eqx.filter(model, eqx.is_array))\n",
    "    loss_log = []\n",
    "    \n",
    "    @eqx.filter_jit # Wrap this in a filter_jit to speed things up\n",
    "    def make_step(model,opt_state,x0,xt):\n",
    "        \n",
    "        loss_value,grad = loss(model,x0,xt)\n",
    "        updates, opt_state = optim.update(grad, opt_state, model)\n",
    "        model = eqx.apply_updates(model, updates)\n",
    "        return model, opt_state, loss_value\n",
    "   \n",
    "    train_key = jr.fold_in(key,1)\n",
    "    for i in tqdm(range(steps)):\n",
    "        train_key = jr.fold_in(train_key,i)\n",
    "        # Choose which samples from x_train to fit to this iteration\n",
    "        inds = jr.choice(train_key,np.arange(5421),(BATCH_SIZE,),replace=False)\n",
    "        x0 = X0[inds]\n",
    "        xt = XT[inds]\n",
    "        \n",
    "        # Do the actual gradient update\n",
    "        model, opt_state, train_loss = make_step(model, opt_state, x0,xt)\n",
    "        loss_log.append(train_loss)\n",
    "        if i%10==0:\n",
    "            tqdm.write(\"Loss at step \"+str(i)+\": \"+str(train_loss))\n",
    "    \n",
    "    return model,loss_log"
   ]
  },
  {
   "cell_type": "code",
   "execution_count": 165,
   "metadata": {},
   "outputs": [
    {
     "data": {
      "application/vnd.jupyter.widget-view+json": {
       "model_id": "5ec7a7e50c8e468fa431ea9745eb026d",
       "version_major": 2,
       "version_minor": 0
      },
      "text/plain": [
       "  0%|          | 0/20 [00:00<?, ?it/s]"
      ]
     },
     "metadata": {},
     "output_type": "display_data"
    },
    {
     "name": "stdout",
     "output_type": "stream",
     "text": [
      "Loss at step 0: 0.17896007\n",
      "Loss at step 10: 0.16287099\n"
     ]
    }
   ],
   "source": [
    "node = ODE_solver(key)\n",
    "model_trained,loss_log = train(node,20)"
   ]
  },
  {
   "cell_type": "code",
   "execution_count": 158,
   "metadata": {},
   "outputs": [],
   "source": [
    "XS = model_trained(np.linspace(0,9,100),X0[0])"
   ]
  },
  {
   "cell_type": "code",
   "execution_count": 163,
   "metadata": {},
   "outputs": [
    {
     "data": {
      "text/plain": [
       "<matplotlib.image.AxesImage at 0x7f6f980ee890>"
      ]
     },
     "execution_count": 163,
     "metadata": {},
     "output_type": "execute_result"
    },
    {
     "data": {
      "image/png": "[encoded data removed]",
      "text/plain": [
       "<Figure size 640x480 with 1 Axes>"
      ]
     },
     "metadata": {},
     "output_type": "display_data"
    }
   ],
   "source": [
    "plt.imshow(XS[99,0])"
   ]
  }
 ],
 "metadata": {
  "kernelspec": {
   "display_name": "Python 3",
   "language": "python",
   "name": "python3"
  },
  "language_info": {
   "codemirror_mode": {
    "name": "ipython",
    "version": 3
   },
   "file_extension": ".py",
   "mimetype": "text/x-python",
   "name": "python",
   "nbconvert_exporter": "python",
   "pygments_lexer": "ipython3",
   "version": "3.11.8"
  }
 },
 "nbformat": 4,
 "nbformat_minor": 2
}
